{
  "metadata": {
    "language_info": {
      "codemirror_mode": {
        "name": "python",
        "version": 3
      },
      "file_extension": ".py",
      "mimetype": "text/x-python",
      "name": "python",
      "nbconvert_exporter": "python",
      "pygments_lexer": "ipython3",
      "version": "3.8"
    },
    "kernelspec": {
      "name": "python",
      "display_name": "Pyolite",
      "language": "python"
    }
  },
  "nbformat_minor": 4,
  "nbformat": 4,
  "cells": [
    {
      "cell_type": "markdown",
      "source": "# Title: Romina Castro's Notebook",
      "metadata": {}
    },
    {
      "cell_type": "markdown",
      "source": "Introduction: This is my final work of the course tools for data science",
      "metadata": {}
    },
    {
      "cell_type": "markdown",
      "source": "Data Science languages:\n1. R\n2. SQL\n3. Python",
      "metadata": {}
    },
    {
      "cell_type": "markdown",
      "source": "Data Science libraries:\n1. TensorFlow\n2. SciPy\n3. NumPy",
      "metadata": {}
    },
    {
      "cell_type": "markdown",
      "source": "| Data Science tools |\n----------------------\n| SAS |\n| Jupyter |\n| TensorFlow |",
      "metadata": {}
    },
    {
      "cell_type": "markdown",
      "source": "#### In the next cell I will be introducing arithmetic expressions",
      "metadata": {}
    },
    {
      "cell_type": "code",
      "source": "num1 = 10\nnum2 = 5\nresult1 = num1 * num2\nresult2 = num1 + num2\nprint(f\"The result of multiplying {num1} and {num2} is {result1}\")\nprint(f\"The result of adding {num1} and {num2} is {result2}\")\n",
      "metadata": {
        "trusted": true
      },
      "execution_count": 4,
      "outputs": [
        {
          "name": "stdout",
          "text": "The result of multiplying 10 and 5 is 50\nThe result of adding 10 and 5 is 15\n",
          "output_type": "stream"
        }
      ]
    },
    {
      "cell_type": "code",
      "source": "minutes = 120  # replace 120 with your desired number of minutes\nhours = minutes / 60\nprint(f\"{minutes} minutes is equal to {hours} hours\")\n",
      "metadata": {
        "trusted": true
      },
      "execution_count": 3,
      "outputs": [
        {
          "name": "stdout",
          "text": "120 minutes is equal to 2.0 hours\n",
          "output_type": "stream"
        }
      ]
    },
    {
      "cell_type": "markdown",
      "source": "Objectives:\n- One\n- Two\n- Three",
      "metadata": {}
    },
    {
      "cell_type": "markdown",
      "source": "## Author\n\nThis notebook was created by [Romina Castro].\n",
      "metadata": {}
    },
    {
      "cell_type": "code",
      "source": "",
      "metadata": {},
      "execution_count": null,
      "outputs": []
    }
  ]
}